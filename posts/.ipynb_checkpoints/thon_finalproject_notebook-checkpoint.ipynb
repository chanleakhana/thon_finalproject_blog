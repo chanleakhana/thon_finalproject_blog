{
 "cells": [
  {
   "cell_type": "markdown",
   "id": "5b529770",
   "metadata": {},
   "source": [
    "# The Data"
   ]
  },
  {
   "cell_type": "markdown",
   "id": "55c76a2c",
   "metadata": {},
   "source": [
    "# Introduction\n",
    "\n",
    "**Description**\n",
    "\n",
    "**Link**\n",
    "\n",
    "**Motivation**\n",
    "\n",
    "**Questions**"
   ]
  },
  {
   "cell_type": "markdown",
   "id": "ba3e41c8",
   "metadata": {},
   "source": [
    "# Methods\n",
    "\n",
    "**Data Summary**\n",
    "\n",
    "**Summary Statistics**\n",
    "\n",
    "**Missing Data**\n",
    "\n",
    "**Data Preprocessing**\n",
    "\n"
   ]
  },
  {
   "cell_type": "markdown",
   "id": "8f7446f0",
   "metadata": {},
   "source": [
    "# Results"
   ]
  }
 ],
 "metadata": {
  "kernelspec": {
   "display_name": "Python 3 (ipykernel)",
   "language": "python",
   "name": "python3"
  },
  "language_info": {
   "codemirror_mode": {
    "name": "ipython",
    "version": 3
   },
   "file_extension": ".py",
   "mimetype": "text/x-python",
   "name": "python",
   "nbconvert_exporter": "python",
   "pygments_lexer": "ipython3",
   "version": "3.10.11"
  }
 },
 "nbformat": 4,
 "nbformat_minor": 5
}
